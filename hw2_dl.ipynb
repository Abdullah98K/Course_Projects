{
  "nbformat": 4,
  "nbformat_minor": 0,
  "metadata": {
    "orig_nbformat": 2,
    "kernelspec": {
      "name": "Python 3.8.1 64-bit",
      "display_name": "Python 3.8.1 64-bit",
      "metadata": {
        "interpreter": {
          "hash": "aee8b7b246df8f9039afb4144a1f6fd8d2ca17a180786b69acc140d282b71a49"
        }
      }
    },
    "colab": {
      "name": "hw2_dl.ipynb",
      "provenance": [],
      "collapsed_sections": []
    }
  },
  "cells": [
    {
      "cell_type": "markdown",
      "metadata": {
        "id": "ILXQQw3M0c0J"
      },
      "source": [
        "# <center>Homework 2</center>\n",
        "## Authors\n",
        "### Abdullah Alkhalifah 201690090\n",
        "### Ibrahim Alzekri 201616860\n",
        "In this notebook we will design, model, and train a neural network to classify points whether they are inside the blue shape given below or not.\n",
        "\n",
        "![](https://drive.google.com/uc?export=view&id=14tsQTsWjcY-LV5TQ3hxfYt1OQs6UsQdP)\n",
        "\n",
        "### i. Design\n",
        "\n",
        "![](https://drive.google.com/uc?export=view&id=1x6mw7pwRf6_wEE0y6LZ97j3DE5E-WG0v)\n",
        "\n",
        "### ii. Model Designed MLP\n",
        "Now, we will design an MLP model based on the previous weights and biases to simulate our shape\n"
      ]
    },
    {
      "cell_type": "code",
      "metadata": {
        "id": "3CQKrhDs0c0K",
        "tags": [],
        "outputId": "29546128-444f-4a7a-c922-f0e93b629959",
        "colab": {
          "base_uri": "https://localhost:8080/",
          "height": 34
        }
      },
      "source": [
        "import numpy as np\n",
        "import torch\n",
        "import torch.nn as nn\n",
        "import torch.nn.functional as F\n",
        "import torch.utils.data.dataloader as dataloader\n",
        "import matplotlib as mpl\n",
        "import matplotlib.pyplot as plt\n",
        "import matplotlib.patches as patches\n",
        "%matplotlib inline\n",
        "\n",
        "print(torch.__version__)"
      ],
      "execution_count": 1,
      "outputs": [
        {
          "output_type": "stream",
          "text": [
            "1.6.0+cu101\n"
          ],
          "name": "stdout"
        }
      ]
    },
    {
      "cell_type": "code",
      "metadata": {
        "tags": [],
        "id": "cOsNK6t_nQQy"
      },
      "source": [
        "class blue_shape_classifier(nn.Module):\n",
        "    '''\n",
        "    Demo classifier model class to demonstrate SiLU\n",
        "    '''\n",
        "    def __init__(self):\n",
        "        super().__init__()\n",
        "\n",
        "        # initialize layers\n",
        "        self.input = nn.Linear(2, 8)\n",
        "        self.h1_a = nn.Linear(4, 1)\n",
        "        self.h1_b = nn.Linear(4, 1)\n",
        "        self.h2 = nn.Linear(2, 1)\n",
        "\n",
        "        self.intialize_params()\n",
        "\n",
        "\n",
        "    def forward(self, x):\n",
        "\n",
        "        # make sure the input tensor is flattened\n",
        "        x = x.view(x.shape[0], -1)\n",
        "\n",
        "        x = self.step(self.input(x))\n",
        "\n",
        "        x_a = self.step(self.h1_a(x[:,0:4].float()))\n",
        "        x_b = self.step(self.h1_b(x[:,4:8].float()))\n",
        "        \n",
        "        x = torch.cat((x_a, x_b), dim=1)\n",
        "        \n",
        "        output = self.step(self.h2(x.float()))\n",
        "\n",
        "        return output\n",
        "    \n",
        "    def intialize_params(self):        \n",
        "        \n",
        "        \n",
        "        old_params = {}\n",
        "\n",
        "        for name, params in self.named_parameters():\n",
        "            old_params[name] = params.clone()\n",
        "\n",
        "\n",
        "        old_params['input.weight'] = [ [1 , -1], [1, 1], [-1, 1], [-1, -1], [1, 1], [1, -1], [-1, 1], [-1, -1] ]                \n",
        "        old_params['input.bias'] = [8, 8, 0, 0, 0, 0, 8, 8]\n",
        "\n",
        "\n",
        "        old_params['h1_a.weight'] = [1 , 1, 1, 1]\n",
        "        old_params['h1_a.bias'] = [-4]\n",
        "\n",
        "        old_params['h1_b.weight'] = [1 , 1, 1, 1]\n",
        "        old_params['h1_b.bias'] = [-4]\n",
        "        \n",
        "        old_params['h2.weight'] = [1 , 1]\n",
        "        old_params['h2.bias'] = [-1]\n",
        "\n",
        "        for name, params in self.named_parameters():\n",
        "            params.data.copy_(torch.tensor(old_params[name]))\n",
        "\n",
        "\n",
        "    def step (self, x):\n",
        "        return (x>=0)*1"
      ],
      "execution_count": 2,
      "outputs": []
    },
    {
      "cell_type": "markdown",
      "metadata": {
        "id": "Wqgn-SzW0c0R"
      },
      "source": [
        "### iii. Sampling\n",
        "\n",
        "We will create uniform data points $(x_1,x_2)$ inside an imaginary surronding rectangular with points (10,6), (10,-6), (-10,6), (-10,-6) in order to have a balanced dataset. We will also generate y (class) values base on $|(x_1-4)|+|x_2|=4$ and $|(x_1+4)|+|x_2|=4$"
      ]
    },
    {
      "cell_type": "code",
      "metadata": {
        "id": "dzoHCLYQ0c0S"
      },
      "source": [
        "def sample_points(n):\n",
        "    # returns (X,Y), where X of shape (n,2) is the numpy array of points and Y is the (n) array of classes\n",
        "\n",
        "    x1 = np.random.uniform(low= -10 , high= 10, size=n).reshape(-1,1)\n",
        "    x2 = np.random.uniform(low= -6 , high= 6, size=n).reshape(-1,1)\n",
        "    y = ( abs(x1-4)+abs(x2) <= 4 ).astype(int).reshape(-1) + ( abs(x1+4)+abs(x2) <= 4 ).astype(int).reshape(-1)\n",
        "    x = np.concatenate([x1,x2],axis=1)\n",
        "    return x,y"
      ],
      "execution_count": 3,
      "outputs": []
    },
    {
      "cell_type": "code",
      "metadata": {
        "tags": [],
        "id": "69EWMgmw0c0V",
        "outputId": "a0f60a5c-c1a3-4d67-c71a-0d703a59ea4c",
        "colab": {
          "base_uri": "https://localhost:8080/",
          "height": 34
        }
      },
      "source": [
        "# Generate the data\n",
        "\n",
        "x_train,y_train = sample_points(10000)\n",
        "x_val,y_val = sample_points(500)\n",
        "x_test,y_test = sample_points(500)\n",
        "\n",
        "print(x_train.shape,y_train.shape)"
      ],
      "execution_count": 4,
      "outputs": [
        {
          "output_type": "stream",
          "text": [
            "(10000, 2) (10000,)\n"
          ],
          "name": "stdout"
        }
      ]
    },
    {
      "cell_type": "code",
      "metadata": {
        "tags": [],
        "id": "mA4saV220c0Y"
      },
      "source": [
        "x_train = torch.from_numpy(x_train).float()\n",
        "y_train = torch.from_numpy(y_train).long()\n",
        "x_test = torch.from_numpy(x_test).float()\n",
        "y_test = torch.from_numpy(y_test).long()\n",
        "x_val = torch.from_numpy(x_val).float()\n",
        "y_val = torch.from_numpy(y_val).long()"
      ],
      "execution_count": 5,
      "outputs": []
    },
    {
      "cell_type": "markdown",
      "metadata": {
        "id": "gIV5pX2qnQQ7"
      },
      "source": [
        "### iv. Testing\n",
        "\n",
        "Firstly, we will develope a print funaction to plot Blus Shape model results"
      ]
    },
    {
      "cell_type": "code",
      "metadata": {
        "id": "wJqr0FfAnQQ8"
      },
      "source": [
        "def print_BS_model(net, datapoints):\n",
        "\n",
        "  out = net(datapoints)\n",
        "\n",
        "  green = datapoints.numpy()[np.where(out==1)[0]]\n",
        "  red = datapoints.numpy()[np.where(out==0)[0]]\n",
        "  \n",
        "  fig, ax = plt.subplots()\n",
        "\n",
        "  plt.xlim((-10,10))\n",
        "  plt.ylim((-6,6))\n",
        "\n",
        "  rect1 = patches.Rectangle((0,0), 5.65685,5.65685,lw=1.0,edgecolor='b',fc='none')\n",
        "  rect2 = patches.Rectangle((0,0), 5.65685,5.65685,lw=1.0,edgecolor='b',fc='none')\n",
        "\n",
        "  t1 = mpl.transforms.Affine2D().rotate_deg(-45) + ax.transData\n",
        "  rect1.set_transform(t1)\n",
        "  t2 = mpl.transforms.Affine2D().rotate_deg(135) + ax.transData\n",
        "  rect2.set_transform(t2)\n",
        "\n",
        "  pos_values = plt.scatter(x=green[:,0],y=green[:,1], color='g',)\n",
        "  neg_values = plt.scatter(x=red[:,0],y=red[:,1], color='r',)\n",
        "\n",
        "  ax.add_patch(rect1)\n",
        "  ax.add_patch(rect2)\n",
        "  ax.add_artist(pos_values)\n",
        "  ax.add_artist(neg_values)"
      ],
      "execution_count": 6,
      "outputs": []
    },
    {
      "cell_type": "code",
      "metadata": {
        "id": "WgbPJLBcnQQ_"
      },
      "source": [
        "def accuracy(net, test_data, y):\n",
        "\n",
        "    correct = 0\n",
        "    out = net(test_data)\n",
        "    for i in range(out.shape[0]):\n",
        "        if(out[i][0] == y[i]):\n",
        "            correct = correct + 1\n",
        "\n",
        "    accuracy = correct/torch.numel(y) * 100\n",
        "    return accuracy"
      ],
      "execution_count": 29,
      "outputs": []
    },
    {
      "cell_type": "code",
      "metadata": {
        "tags": [],
        "id": "Tk1-wNkOnQRB",
        "outputId": "d6c05dd8-37eb-4ce4-8bd4-56abac4a116f",
        "colab": {
          "base_uri": "https://localhost:8080/",
          "height": 286
        }
      },
      "source": [
        "bs_model = blue_shape_classifier()\n",
        "print_BS_model(bs_model,x_train)\n",
        "\n",
        "print('The accuraacy is: '+str(accuracy(bs_model, x_test, y_test))+'%')"
      ],
      "execution_count": 35,
      "outputs": [
        {
          "output_type": "stream",
          "text": [
            "The accuraacy is: 100.0%\n"
          ],
          "name": "stdout"
        },
        {
          "output_type": "display_data",
          "data": {
            "image/png": "[encoded data removed]",
            "text/plain": [
              "<Figure size 432x288 with 1 Axes>"
            ]
          },
          "metadata": {
            "tags": [],
            "needs_background": "light"
          }
        }
      ]
    },
    {
      "cell_type": "markdown",
      "metadata": {
        "id": "bv81dkrwajks"
      },
      "source": [
        "\n",
        "\n",
        "### Method for ploting figures used in coming exercises "
      ]
    },
    {
      "cell_type": "code",
      "metadata": {
        "id": "CxtbKo62L1kZ"
      },
      "source": [
        "def print_figure(net, datapoints):\n",
        "\n",
        "  out = net(datapoints).argmax(dim=1).detach().numpy()\n",
        "  green = datapoints.numpy()[np.where(out==1)]\n",
        "  red = datapoints.numpy()[np.where(out==0)]\n",
        "\n",
        "  fig, ax = plt.subplots()\n",
        "\n",
        "  plt.xlim((-10,10))\n",
        "  plt.ylim((-6,6))\n",
        "\n",
        "  rect1 = patches.Rectangle((0,0), 5.65685,5.65685,lw=1.0,edgecolor='b',fc='none')\n",
        "  rect2 = patches.Rectangle((0,0), 5.65685,5.65685,lw=1.0,edgecolor='b',fc='none')\n",
        "\n",
        "  t1 = mpl.transforms.Affine2D().rotate_deg(-45) + ax.transData\n",
        "  rect1.set_transform(t1)\n",
        "  t2 = mpl.transforms.Affine2D().rotate_deg(135) + ax.transData\n",
        "  rect2.set_transform(t2)\n",
        "\n",
        "  pos_values = plt.scatter(x=green[:,0],y=green[:,1], color='g',)\n",
        "  neg_values = plt.scatter(x=red[:,0],y=red[:,1], color='r',)\n",
        "\n",
        "  ax.add_patch(rect1)\n",
        "  ax.add_patch(rect2)\n",
        "  ax.add_artist(pos_values)\n",
        "  ax.add_artist(neg_values)"
      ],
      "execution_count": 9,
      "outputs": []
    },
    {
      "cell_type": "markdown",
      "metadata": {
        "id": "MkYVGNZH02ti"
      },
      "source": [
        "### Part V and onwards\n",
        "Now we will build an MLP with only one hidden layer for parts V and VI\n"
      ]
    },
    {
      "cell_type": "code",
      "metadata": {
        "id": "vo0Nr4TV0c0b",
        "tags": []
      },
      "source": [
        "class Net(nn.Module):\n",
        "\n",
        "  def __init__(self,hidden_size): # hidden_size only to use this module for part 5 and 6\n",
        "    super(Net,self).__init__()\n",
        "    self.layer1 = nn.Linear(2,hidden_size)\n",
        "    self.act = nn.ReLU()\n",
        "    self.layer3 = nn.Linear(hidden_size,2)\n",
        "\n",
        "  def forward(self,x):\n",
        "    x = self.layer1(x)\n",
        "    x = self.act(x)\n",
        "    return self.layer3(x)\n"
      ],
      "execution_count": 10,
      "outputs": []
    },
    {
      "cell_type": "markdown",
      "metadata": {
        "id": "y1ruAfxKK5TH"
      },
      "source": [
        "This is our main training function.\n",
        "It will be used in parts V, VI and VII"
      ]
    },
    {
      "cell_type": "code",
      "metadata": {
        "id": "iK9AqTVL9hjq"
      },
      "source": [
        "def train_net(net,train_set,val_set,n_iters,gpu):\n",
        "\n",
        "    train_data,train_labels = train_set\n",
        "    val_data,val_labels = val_set\n",
        "    criterion = nn.CrossEntropyLoss()\n",
        "    optimizer = torch.optim.SGD(net.parameters(),lr=0.01)\n",
        "    \n",
        "    # should we move them to gpu?\n",
        "    if gpu:\n",
        "        train_data,train_labels = train_data.cuda(),train_labels.cuda()\n",
        "        val_data,val_labels = val_data.cuda(),val_labels.cuda()\n",
        "        net = net.cuda() \n",
        "        print(\"Using GPU\")\n",
        "    else:\n",
        "        print(\"Using CPU\")\n",
        "\n",
        "    for epoch in range(n_iters):\n",
        "      #zero the gradients\n",
        "      optimizer.zero_grad()\n",
        "\n",
        "      #compute foward, backward and optimize \n",
        "      output = net(train_data)\n",
        "      loss = criterion(output,train_labels)\n",
        "      loss.backward()\n",
        "      optimizer.step()\n",
        "\n",
        "      if epoch%500==499: # every 500 iterations, print statistics\n",
        "          print(\"epoch #: \",epoch+1)\n",
        "          # accuracy of the train prediction\n",
        "          train_prediction = output.cpu().detach().argmax(dim=1)\n",
        "          train_accuracy = (train_prediction.numpy()==train_labels.cpu().detach().numpy()).mean()\n",
        "          # accuracy of the validation prediction\n",
        "          with torch.no_grad():\n",
        "            val_output = net(val_data)\n",
        "            val_loss = criterion(val_output,val_labels)\n",
        "            val_prediction = val_output.cpu().detach().argmax(dim=1)\n",
        "            val_accuracy = (val_prediction.numpy()==val_labels.cpu().detach().numpy()).mean()\n",
        "          print(\"Training loss :\",loss.cpu().detach().numpy())\n",
        "          print(\"Training accuracy :\",train_accuracy)\n",
        "          print(\"Validation loss :\",val_loss.cpu().detach().numpy())\n",
        "          print(\"Validation accuracy :\",val_accuracy)\n",
        "          print('='*20)"
      ],
      "execution_count": 11,
      "outputs": []
    },
    {
      "cell_type": "markdown",
      "metadata": {
        "id": "5o9yxPAT4AZ5"
      },
      "source": [
        "part V"
      ]
    },
    {
      "cell_type": "code",
      "metadata": {
        "id": "UJlDnp403Rql",
        "outputId": "ce06991b-f875-46f8-ad05-7b81376118e6",
        "colab": {
          "base_uri": "https://localhost:8080/",
          "height": 34
        }
      },
      "source": [
        "device = torch.cuda.is_available()\n",
        "print(device)\n",
        "net8 = Net(8) # initiate the model with 8 neurons"
      ],
      "execution_count": 12,
      "outputs": [
        {
          "output_type": "stream",
          "text": [
            "False\n"
          ],
          "name": "stdout"
        }
      ]
    },
    {
      "cell_type": "code",
      "metadata": {
        "id": "-2G9E7IyEy00",
        "outputId": "1ee29b51-04ea-4075-e45a-9bb3935a37c9",
        "colab": {
          "base_uri": "https://localhost:8080/",
          "height": 1000
        }
      },
      "source": [
        "train_set = (x_train,y_train)\n",
        "val_set = (x_val,y_val)\n",
        "train_net(net8,train_set,val_set,10000,device)"
      ],
      "execution_count": 13,
      "outputs": [
        {
          "output_type": "stream",
          "text": [
            "Using CPU\n",
            "epoch #:  500\n",
            "Training loss : 0.41289043\n",
            "Training accuracy : 0.7574\n",
            "Validation loss : 0.41158596\n",
            "Validation accuracy : 0.766\n",
            "====================\n",
            "epoch #:  1000\n",
            "Training loss : 0.37729573\n",
            "Training accuracy : 0.8075\n",
            "Validation loss : 0.37606928\n",
            "Validation accuracy : 0.826\n",
            "====================\n",
            "epoch #:  1500\n",
            "Training loss : 0.35305306\n",
            "Training accuracy : 0.8293\n",
            "Validation loss : 0.35192338\n",
            "Validation accuracy : 0.848\n",
            "====================\n",
            "epoch #:  2000\n",
            "Training loss : 0.3354782\n",
            "Training accuracy : 0.8397\n",
            "Validation loss : 0.33401033\n",
            "Validation accuracy : 0.85\n",
            "====================\n",
            "epoch #:  2500\n",
            "Training loss : 0.32282895\n",
            "Training accuracy : 0.8466\n",
            "Validation loss : 0.32069936\n",
            "Validation accuracy : 0.86\n",
            "====================\n",
            "epoch #:  3000\n",
            "Training loss : 0.31393212\n",
            "Training accuracy : 0.8534\n",
            "Validation loss : 0.31147873\n",
            "Validation accuracy : 0.856\n",
            "====================\n",
            "epoch #:  3500\n",
            "Training loss : 0.30750546\n",
            "Training accuracy : 0.8562\n",
            "Validation loss : 0.30501702\n",
            "Validation accuracy : 0.856\n",
            "====================\n",
            "epoch #:  4000\n",
            "Training loss : 0.3026093\n",
            "Training accuracy : 0.8613\n",
            "Validation loss : 0.3002624\n",
            "Validation accuracy : 0.858\n",
            "====================\n",
            "epoch #:  4500\n",
            "Training loss : 0.2985248\n",
            "Training accuracy : 0.8648\n",
            "Validation loss : 0.29624712\n",
            "Validation accuracy : 0.862\n",
            "====================\n",
            "epoch #:  5000\n",
            "Training loss : 0.2943344\n",
            "Training accuracy : 0.8683\n",
            "Validation loss : 0.29217058\n",
            "Validation accuracy : 0.866\n",
            "====================\n",
            "epoch #:  5500\n",
            "Training loss : 0.28968585\n",
            "Training accuracy : 0.8729\n",
            "Validation loss : 0.28700948\n",
            "Validation accuracy : 0.87\n",
            "====================\n",
            "epoch #:  6000\n",
            "Training loss : 0.28700212\n",
            "Training accuracy : 0.8749\n",
            "Validation loss : 0.28386065\n",
            "Validation accuracy : 0.872\n",
            "====================\n",
            "epoch #:  6500\n",
            "Training loss : 0.28513315\n",
            "Training accuracy : 0.8775\n",
            "Validation loss : 0.28196567\n",
            "Validation accuracy : 0.872\n",
            "====================\n",
            "epoch #:  7000\n",
            "Training loss : 0.28352293\n",
            "Training accuracy : 0.8789\n",
            "Validation loss : 0.28040308\n",
            "Validation accuracy : 0.872\n",
            "====================\n",
            "epoch #:  7500\n",
            "Training loss : 0.28201637\n",
            "Training accuracy : 0.8815\n",
            "Validation loss : 0.2789109\n",
            "Validation accuracy : 0.874\n",
            "====================\n",
            "epoch #:  8000\n",
            "Training loss : 0.28041196\n",
            "Training accuracy : 0.8833\n",
            "Validation loss : 0.27742964\n",
            "Validation accuracy : 0.876\n",
            "====================\n",
            "epoch #:  8500\n",
            "Training loss : 0.27781427\n",
            "Training accuracy : 0.8857\n",
            "Validation loss : 0.27446058\n",
            "Validation accuracy : 0.88\n",
            "====================\n",
            "epoch #:  9000\n",
            "Training loss : 0.27142385\n",
            "Training accuracy : 0.8888\n",
            "Validation loss : 0.267457\n",
            "Validation accuracy : 0.884\n",
            "====================\n",
            "epoch #:  9500\n",
            "Training loss : 0.26502332\n",
            "Training accuracy : 0.8919\n",
            "Validation loss : 0.26003286\n",
            "Validation accuracy : 0.884\n",
            "====================\n",
            "epoch #:  10000\n",
            "Training loss : 0.25889203\n",
            "Training accuracy : 0.895\n",
            "Validation loss : 0.25240737\n",
            "Validation accuracy : 0.892\n",
            "====================\n"
          ],
          "name": "stdout"
        }
      ]
    },
    {
      "cell_type": "code",
      "metadata": {
        "id": "EUVi1g2uNs8Z",
        "outputId": "21ae8d03-2de7-4e93-fabb-1109a7bd7a91",
        "colab": {
          "base_uri": "https://localhost:8080/",
          "height": 269
        }
      },
      "source": [
        "with torch.no_grad():\n",
        "  print_figure(net8,x_test)"
      ],
      "execution_count": 14,
      "outputs": [
        {
          "output_type": "display_data",
          "data": {
            "image/png": "[encoded data removed]",
            "text/plain": [
              "<Figure size 432x288 with 1 Axes>"
            ]
          },
          "metadata": {
            "tags": [],
            "needs_background": "light"
          }
        }
      ]
    },
    {
      "cell_type": "markdown",
      "metadata": {
        "id": "9TuVRHUDaw4g"
      },
      "source": [
        "Part VI"
      ]
    },
    {
      "cell_type": "code",
      "metadata": {
        "id": "5LdMzowAa34N"
      },
      "source": [
        "net50 = Net(50) # initiate the model with 50 neurons"
      ],
      "execution_count": 15,
      "outputs": []
    },
    {
      "cell_type": "code",
      "metadata": {
        "id": "u5uQGqsHbAp4",
        "outputId": "c736cf7c-cd95-4c65-b72c-9291458b8890",
        "colab": {
          "base_uri": "https://localhost:8080/",
          "height": 1000
        }
      },
      "source": [
        "train_net(net50,train_set,val_set,10000,device)"
      ],
      "execution_count": 16,
      "outputs": [
        {
          "output_type": "stream",
          "text": [
            "Using CPU\n",
            "epoch #:  500\n",
            "Training loss : 0.3599861\n",
            "Training accuracy : 0.8127\n",
            "Validation loss : 0.3568126\n",
            "Validation accuracy : 0.838\n",
            "====================\n",
            "epoch #:  1000\n",
            "Training loss : 0.3166529\n",
            "Training accuracy : 0.8545\n",
            "Validation loss : 0.31211147\n",
            "Validation accuracy : 0.864\n",
            "====================\n",
            "epoch #:  1500\n",
            "Training loss : 0.29269344\n",
            "Training accuracy : 0.8696\n",
            "Validation loss : 0.28689685\n",
            "Validation accuracy : 0.868\n",
            "====================\n",
            "epoch #:  2000\n",
            "Training loss : 0.27604118\n",
            "Training accuracy : 0.8839\n",
            "Validation loss : 0.2684397\n",
            "Validation accuracy : 0.874\n",
            "====================\n",
            "epoch #:  2500\n",
            "Training loss : 0.26287583\n",
            "Training accuracy : 0.8928\n",
            "Validation loss : 0.25306612\n",
            "Validation accuracy : 0.878\n",
            "====================\n",
            "epoch #:  3000\n",
            "Training loss : 0.251335\n",
            "Training accuracy : 0.9016\n",
            "Validation loss : 0.23974092\n",
            "Validation accuracy : 0.88\n",
            "====================\n",
            "epoch #:  3500\n",
            "Training loss : 0.24182083\n",
            "Training accuracy : 0.908\n",
            "Validation loss : 0.22873622\n",
            "Validation accuracy : 0.896\n",
            "====================\n",
            "epoch #:  4000\n",
            "Training loss : 0.23389356\n",
            "Training accuracy : 0.9114\n",
            "Validation loss : 0.2198613\n",
            "Validation accuracy : 0.91\n",
            "====================\n",
            "epoch #:  4500\n",
            "Training loss : 0.22678001\n",
            "Training accuracy : 0.9145\n",
            "Validation loss : 0.21192493\n",
            "Validation accuracy : 0.912\n",
            "====================\n",
            "epoch #:  5000\n",
            "Training loss : 0.22010356\n",
            "Training accuracy : 0.9181\n",
            "Validation loss : 0.20433858\n",
            "Validation accuracy : 0.92\n",
            "====================\n",
            "epoch #:  5500\n",
            "Training loss : 0.21367216\n",
            "Training accuracy : 0.9216\n",
            "Validation loss : 0.1973126\n",
            "Validation accuracy : 0.928\n",
            "====================\n",
            "epoch #:  6000\n",
            "Training loss : 0.20740674\n",
            "Training accuracy : 0.9252\n",
            "Validation loss : 0.1907695\n",
            "Validation accuracy : 0.928\n",
            "====================\n",
            "epoch #:  6500\n",
            "Training loss : 0.20135027\n",
            "Training accuracy : 0.9288\n",
            "Validation loss : 0.18412498\n",
            "Validation accuracy : 0.934\n",
            "====================\n",
            "epoch #:  7000\n",
            "Training loss : 0.1955585\n",
            "Training accuracy : 0.9316\n",
            "Validation loss : 0.17773984\n",
            "Validation accuracy : 0.938\n",
            "====================\n",
            "epoch #:  7500\n",
            "Training loss : 0.1899911\n",
            "Training accuracy : 0.9347\n",
            "Validation loss : 0.17189516\n",
            "Validation accuracy : 0.942\n",
            "====================\n",
            "epoch #:  8000\n",
            "Training loss : 0.18464246\n",
            "Training accuracy : 0.937\n",
            "Validation loss : 0.1662938\n",
            "Validation accuracy : 0.944\n",
            "====================\n",
            "epoch #:  8500\n",
            "Training loss : 0.1794243\n",
            "Training accuracy : 0.9405\n",
            "Validation loss : 0.16098478\n",
            "Validation accuracy : 0.95\n",
            "====================\n",
            "epoch #:  9000\n",
            "Training loss : 0.1743635\n",
            "Training accuracy : 0.9421\n",
            "Validation loss : 0.1559736\n",
            "Validation accuracy : 0.952\n",
            "====================\n",
            "epoch #:  9500\n",
            "Training loss : 0.1693705\n",
            "Training accuracy : 0.9446\n",
            "Validation loss : 0.15108633\n",
            "Validation accuracy : 0.954\n",
            "====================\n",
            "epoch #:  10000\n",
            "Training loss : 0.1644264\n",
            "Training accuracy : 0.9468\n",
            "Validation loss : 0.14622268\n",
            "Validation accuracy : 0.958\n",
            "====================\n"
          ],
          "name": "stdout"
        }
      ]
    },
    {
      "cell_type": "code",
      "metadata": {
        "id": "2jdDC_6_bCt6",
        "outputId": "d5fcb694-25d3-44ae-ed58-39273c882834",
        "colab": {
          "base_uri": "https://localhost:8080/",
          "height": 269
        }
      },
      "source": [
        "with torch.no_grad():\n",
        "  print_figure(net50,x_test)"
      ],
      "execution_count": 17,
      "outputs": [
        {
          "output_type": "display_data",
          "data": {
            "image/png": "[encoded data removed]",
            "text/plain": [
              "<Figure size 432x288 with 1 Axes>"
            ]
          },
          "metadata": {
            "tags": [],
            "needs_background": "light"
          }
        }
      ]
    },
    {
      "cell_type": "markdown",
      "metadata": {
        "id": "xdCk_7aWciKx"
      },
      "source": [
        "Since only four decison boundaries are needed for a clasification of a square (8 here for two squares), we don't see significant imporvment in the accuarcy of the datasets.\n"
      ]
    },
    {
      "cell_type": "markdown",
      "metadata": {
        "id": "hzq6LRfIdQFh"
      },
      "source": [
        "Part VII"
      ]
    },
    {
      "cell_type": "code",
      "metadata": {
        "id": "wbLaoAP5dYSw"
      },
      "source": [
        "# create a sequintial model with 2 hidden layers\n",
        "net82 = nn.Sequential(nn.Linear(2,8),nn.ReLU(),nn.Linear(8,2),nn.ReLU(),nn.Linear(2,2))"
      ],
      "execution_count": 18,
      "outputs": []
    },
    {
      "cell_type": "code",
      "metadata": {
        "id": "usTUuxrVd2x_",
        "outputId": "1aa6e252-a3ac-490b-f172-ffb54ca3ee74",
        "colab": {
          "base_uri": "https://localhost:8080/",
          "height": 1000
        }
      },
      "source": [
        "train_net(net82,train_set,val_set,10000,device)"
      ],
      "execution_count": 19,
      "outputs": [
        {
          "output_type": "stream",
          "text": [
            "Using CPU\n",
            "epoch #:  500\n",
            "Training loss : 0.5337182\n",
            "Training accuracy : 0.6779\n",
            "Validation loss : 0.52860814\n",
            "Validation accuracy : 0.686\n",
            "====================\n",
            "epoch #:  1000\n",
            "Training loss : 0.45522925\n",
            "Training accuracy : 0.7415\n",
            "Validation loss : 0.44967487\n",
            "Validation accuracy : 0.738\n",
            "====================\n",
            "epoch #:  1500\n",
            "Training loss : 0.36700407\n",
            "Training accuracy : 0.8029\n",
            "Validation loss : 0.36412573\n",
            "Validation accuracy : 0.822\n",
            "====================\n",
            "epoch #:  2000\n",
            "Training loss : 0.32764867\n",
            "Training accuracy : 0.8459\n",
            "Validation loss : 0.3246679\n",
            "Validation accuracy : 0.85\n",
            "====================\n",
            "epoch #:  2500\n",
            "Training loss : 0.29995403\n",
            "Training accuracy : 0.8649\n",
            "Validation loss : 0.2975328\n",
            "Validation accuracy : 0.864\n",
            "====================\n",
            "epoch #:  3000\n",
            "Training loss : 0.27879003\n",
            "Training accuracy : 0.8815\n",
            "Validation loss : 0.27713045\n",
            "Validation accuracy : 0.886\n",
            "====================\n",
            "epoch #:  3500\n",
            "Training loss : 0.26143718\n",
            "Training accuracy : 0.8934\n",
            "Validation loss : 0.25935748\n",
            "Validation accuracy : 0.89\n",
            "====================\n",
            "epoch #:  4000\n",
            "Training loss : 0.24743848\n",
            "Training accuracy : 0.9025\n",
            "Validation loss : 0.24339062\n",
            "Validation accuracy : 0.898\n",
            "====================\n",
            "epoch #:  4500\n",
            "Training loss : 0.2354563\n",
            "Training accuracy : 0.9094\n",
            "Validation loss : 0.22958156\n",
            "Validation accuracy : 0.906\n",
            "====================\n",
            "epoch #:  5000\n",
            "Training loss : 0.22498764\n",
            "Training accuracy : 0.9151\n",
            "Validation loss : 0.2169771\n",
            "Validation accuracy : 0.91\n",
            "====================\n",
            "epoch #:  5500\n",
            "Training loss : 0.21544813\n",
            "Training accuracy : 0.9193\n",
            "Validation loss : 0.20576766\n",
            "Validation accuracy : 0.916\n",
            "====================\n",
            "epoch #:  6000\n",
            "Training loss : 0.2064661\n",
            "Training accuracy : 0.9237\n",
            "Validation loss : 0.19543773\n",
            "Validation accuracy : 0.92\n",
            "====================\n",
            "epoch #:  6500\n",
            "Training loss : 0.19814084\n",
            "Training accuracy : 0.9278\n",
            "Validation loss : 0.18556015\n",
            "Validation accuracy : 0.928\n",
            "====================\n",
            "epoch #:  7000\n",
            "Training loss : 0.19041392\n",
            "Training accuracy : 0.9312\n",
            "Validation loss : 0.17683588\n",
            "Validation accuracy : 0.934\n",
            "====================\n",
            "epoch #:  7500\n",
            "Training loss : 0.18331927\n",
            "Training accuracy : 0.9347\n",
            "Validation loss : 0.16876796\n",
            "Validation accuracy : 0.944\n",
            "====================\n",
            "epoch #:  8000\n",
            "Training loss : 0.17683347\n",
            "Training accuracy : 0.9385\n",
            "Validation loss : 0.16089904\n",
            "Validation accuracy : 0.95\n",
            "====================\n",
            "epoch #:  8500\n",
            "Training loss : 0.17087513\n",
            "Training accuracy : 0.9422\n",
            "Validation loss : 0.15347685\n",
            "Validation accuracy : 0.956\n",
            "====================\n",
            "epoch #:  9000\n",
            "Training loss : 0.16554321\n",
            "Training accuracy : 0.9449\n",
            "Validation loss : 0.14690265\n",
            "Validation accuracy : 0.962\n",
            "====================\n",
            "epoch #:  9500\n",
            "Training loss : 0.16060825\n",
            "Training accuracy : 0.947\n",
            "Validation loss : 0.14126731\n",
            "Validation accuracy : 0.966\n",
            "====================\n",
            "epoch #:  10000\n",
            "Training loss : 0.15602303\n",
            "Training accuracy : 0.9513\n",
            "Validation loss : 0.13591267\n",
            "Validation accuracy : 0.97\n",
            "====================\n"
          ],
          "name": "stdout"
        }
      ]
    },
    {
      "cell_type": "code",
      "metadata": {
        "id": "pYzHts_beRvy",
        "outputId": "3721ee39-e69f-419b-e516-ab3f81340149",
        "colab": {
          "base_uri": "https://localhost:8080/",
          "height": 269
        }
      },
      "source": [
        "with torch.no_grad():\n",
        "  print_figure(net82,x_test)"
      ],
      "execution_count": 20,
      "outputs": [
        {
          "output_type": "display_data",
          "data": {
            "image/png": "[encoded data removed]",
            "text/plain": [
              "<Figure size 432x288 with 1 Axes>"
            ]
          },
          "metadata": {
            "tags": [],
            "needs_background": "light"
          }
        }
      ]
    },
    {
      "cell_type": "markdown",
      "metadata": {
        "id": "eCcBv7jcWe2a"
      },
      "source": [
        "Since we have two layers now and 8 neurons, this model is even better.\n",
        "\n",
        "the first hidden layer will calssifiy the descion boundaries, but here, unlike part V & VI, we have another layer to 'And' the two squares created. Thus, we will get a better classification.\n",
        "\n",
        "Note: not a subsational increase due to the nature of this problem."
      ]
    }
  ]
}